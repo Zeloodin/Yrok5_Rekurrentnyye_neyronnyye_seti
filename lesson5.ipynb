{
  "nbformat": 4,
  "nbformat_minor": 0,
  "metadata": {
    "colab": {
      "provenance": []
    },
    "kernelspec": {
      "name": "python3",
      "display_name": "Python 3"
    },
    "language_info": {
      "name": "python"
    }
  },
  "cells": [
    {
      "cell_type": "code",
      "source": [
        "import re"
      ],
      "metadata": {
        "id": "PH_mcB21EoxE"
      },
      "execution_count": 1,
      "outputs": []
    },
    {
      "cell_type": "code",
      "execution_count": 2,
      "metadata": {
        "id": "bJQINrKnDqju"
      },
      "outputs": [],
      "source": [
        "with open('train_data.txt', 'r', encoding='utf-8') as f:\n",
        "    text = f.read()\n",
        "    text = text.replace('\\ufeff', '') # убираем первый невидимый символ\n",
        "    text = re.sub(r'[^А-я ]', '', text) # убираем все недопустимые символы"
      ]
    },
    {
      "cell_type": "code",
      "source": [
        "text"
      ],
      "metadata": {
        "colab": {
          "base_uri": "https://localhost:8080/",
          "height": 53
        },
        "id": "SubXLsi5ErEN",
        "outputId": "19e160ea-ece5-4df0-8d16-d6b4753d496c"
      },
      "execution_count": 3,
      "outputs": [
        {
          "output_type": "execute_result",
          "data": {
            "text/plain": [
              "'Вы  лучший ответ на проблемы которые возникли в понедельникДумайте позитивно и верьте в свою способность достигать отличных результатовЕсли вы смогли в понедельник подняться с постели значит вы супер герой'"
            ],
            "application/vnd.google.colaboratory.intrinsic+json": {
              "type": "string"
            }
          },
          "metadata": {},
          "execution_count": 3
        }
      ]
    },
    {
      "cell_type": "code",
      "source": [
        "len(text)"
      ],
      "metadata": {
        "colab": {
          "base_uri": "https://localhost:8080/"
        },
        "id": "fyD7g4glKVps",
        "outputId": "1522c359-199a-49bf-f91a-1bc9f8ad8631"
      },
      "execution_count": 4,
      "outputs": [
        {
          "output_type": "execute_result",
          "data": {
            "text/plain": [
              "205"
            ]
          },
          "metadata": {},
          "execution_count": 4
        }
      ]
    },
    {
      "cell_type": "code",
      "source": [
        "num_characters = 34 #33 буквы + пробел"
      ],
      "metadata": {
        "id": "IJD76YJ4E6z0"
      },
      "execution_count": 5,
      "outputs": []
    },
    {
      "cell_type": "code",
      "source": [
        "import keras\n",
        "from keras.preprocessing.text import Tokenizer"
      ],
      "metadata": {
        "id": "DgiJrgsiIK_x"
      },
      "execution_count": 6,
      "outputs": []
    },
    {
      "cell_type": "code",
      "source": [
        "tokenizer = Tokenizer(num_words=num_characters, char_level=True)"
      ],
      "metadata": {
        "id": "appv1wfpIJvH"
      },
      "execution_count": 7,
      "outputs": []
    },
    {
      "cell_type": "code",
      "source": [
        "tokenizer.fit_on_texts(text)"
      ],
      "metadata": {
        "id": "N1yoi7pGId-n"
      },
      "execution_count": 8,
      "outputs": []
    },
    {
      "cell_type": "code",
      "source": [
        "print(tokenizer.word_index)"
      ],
      "metadata": {
        "colab": {
          "base_uri": "https://localhost:8080/"
        },
        "id": "QJmXPaQbIf-I",
        "outputId": "13a5bc00-710c-40b7-95fb-b55dc64d41ca"
      },
      "execution_count": 9,
      "outputs": [
        {
          "output_type": "stream",
          "name": "stdout",
          "text": [
            "{' ': 1, 'о': 2, 'т': 3, 'е': 4, 'и': 5, 'в': 6, 'н': 7, 'с': 8, 'л': 9, 'п': 10, 'ь': 11, 'ы': 12, 'р': 13, 'а': 14, 'д': 15, 'у': 16, 'к': 17, 'з': 18, 'ч': 19, 'й': 20, 'м': 21, 'г': 22, 'б': 23, 'я': 24, 'ш': 25, 'ю': 26, 'х': 27}\n"
          ]
        }
      ]
    },
    {
      "cell_type": "code",
      "source": [
        "inp_chars = 6 #\n",
        "data = tokenizer.texts_to_matrix(text)"
      ],
      "metadata": {
        "id": "1wWs_206JRu-"
      },
      "execution_count": 10,
      "outputs": []
    },
    {
      "cell_type": "code",
      "source": [
        "data[1]"
      ],
      "metadata": {
        "colab": {
          "base_uri": "https://localhost:8080/"
        },
        "id": "Yqy7uBYCJTYV",
        "outputId": "9e960bb2-8626-4fcf-fd67-ed5c98204572"
      },
      "execution_count": 11,
      "outputs": [
        {
          "output_type": "execute_result",
          "data": {
            "text/plain": [
              "array([0., 0., 0., 0., 0., 0., 0., 0., 0., 0., 0., 0., 1., 0., 0., 0., 0.,\n",
              "       0., 0., 0., 0., 0., 0., 0., 0., 0., 0., 0., 0., 0., 0., 0., 0., 0.])"
            ]
          },
          "metadata": {},
          "execution_count": 11
        }
      ]
    },
    {
      "cell_type": "code",
      "source": [
        "n = data.shape[0]-inp_chars\n",
        "n  #размер обучающего множества"
      ],
      "metadata": {
        "colab": {
          "base_uri": "https://localhost:8080/"
        },
        "id": "HnWQb42jKAd1",
        "outputId": "94750145-87ad-4bc7-91ea-4c812e03ed57"
      },
      "execution_count": 12,
      "outputs": [
        {
          "output_type": "execute_result",
          "data": {
            "text/plain": [
              "199"
            ]
          },
          "metadata": {},
          "execution_count": 12
        }
      ]
    },
    {
      "cell_type": "code",
      "source": [
        "import numpy as np"
      ],
      "metadata": {
        "id": "kvZ-iB9LKwgc"
      },
      "execution_count": 13,
      "outputs": []
    },
    {
      "cell_type": "code",
      "source": [
        "X = np.array([data[i:i+inp_chars, :] for i in range(n)])\n",
        "Y = data[inp_chars:] #предсказание следующего символа"
      ],
      "metadata": {
        "id": "_nG7M5RIKsfs"
      },
      "execution_count": 14,
      "outputs": []
    },
    {
      "cell_type": "code",
      "source": [
        "len(X)"
      ],
      "metadata": {
        "colab": {
          "base_uri": "https://localhost:8080/"
        },
        "id": "z20DCMmSK3tj",
        "outputId": "a914fe93-b541-4ad1-9c55-27baa390daec"
      },
      "execution_count": 15,
      "outputs": [
        {
          "output_type": "execute_result",
          "data": {
            "text/plain": [
              "199"
            ]
          },
          "metadata": {},
          "execution_count": 15
        }
      ]
    },
    {
      "cell_type": "code",
      "source": [
        "X[0]"
      ],
      "metadata": {
        "colab": {
          "base_uri": "https://localhost:8080/"
        },
        "id": "0NrELysIK5fL",
        "outputId": "a84c7e09-a080-45ff-d540-744112b693a7"
      },
      "execution_count": 16,
      "outputs": [
        {
          "output_type": "execute_result",
          "data": {
            "text/plain": [
              "array([[0., 0., 0., 0., 0., 0., 1., 0., 0., 0., 0., 0., 0., 0., 0., 0.,\n",
              "        0., 0., 0., 0., 0., 0., 0., 0., 0., 0., 0., 0., 0., 0., 0., 0.,\n",
              "        0., 0.],\n",
              "       [0., 0., 0., 0., 0., 0., 0., 0., 0., 0., 0., 0., 1., 0., 0., 0.,\n",
              "        0., 0., 0., 0., 0., 0., 0., 0., 0., 0., 0., 0., 0., 0., 0., 0.,\n",
              "        0., 0.],\n",
              "       [0., 1., 0., 0., 0., 0., 0., 0., 0., 0., 0., 0., 0., 0., 0., 0.,\n",
              "        0., 0., 0., 0., 0., 0., 0., 0., 0., 0., 0., 0., 0., 0., 0., 0.,\n",
              "        0., 0.],\n",
              "       [0., 1., 0., 0., 0., 0., 0., 0., 0., 0., 0., 0., 0., 0., 0., 0.,\n",
              "        0., 0., 0., 0., 0., 0., 0., 0., 0., 0., 0., 0., 0., 0., 0., 0.,\n",
              "        0., 0.],\n",
              "       [0., 0., 0., 0., 0., 0., 0., 0., 0., 1., 0., 0., 0., 0., 0., 0.,\n",
              "        0., 0., 0., 0., 0., 0., 0., 0., 0., 0., 0., 0., 0., 0., 0., 0.,\n",
              "        0., 0.],\n",
              "       [0., 0., 0., 0., 0., 0., 0., 0., 0., 0., 0., 0., 0., 0., 0., 0.,\n",
              "        1., 0., 0., 0., 0., 0., 0., 0., 0., 0., 0., 0., 0., 0., 0., 0.,\n",
              "        0., 0.]])"
            ]
          },
          "metadata": {},
          "execution_count": 16
        }
      ]
    },
    {
      "cell_type": "code",
      "source": [
        "Y[0]"
      ],
      "metadata": {
        "colab": {
          "base_uri": "https://localhost:8080/"
        },
        "id": "XbsyrcEGK7G7",
        "outputId": "cb23a69d-e8d0-4d58-e154-842300060455"
      },
      "execution_count": 17,
      "outputs": [
        {
          "output_type": "execute_result",
          "data": {
            "text/plain": [
              "array([0., 0., 0., 0., 0., 0., 0., 0., 0., 0., 0., 0., 0., 0., 0., 0., 0.,\n",
              "       0., 0., 1., 0., 0., 0., 0., 0., 0., 0., 0., 0., 0., 0., 0., 0., 0.])"
            ]
          },
          "metadata": {},
          "execution_count": 17
        }
      ]
    },
    {
      "cell_type": "code",
      "source": [
        "from keras.layers import *\n",
        "from keras.models import Sequential"
      ],
      "metadata": {
        "id": "lIP7yhRzLZsr"
      },
      "execution_count": 18,
      "outputs": []
    },
    {
      "cell_type": "code",
      "source": [
        "model = Sequential()\n",
        "model.add(Input((inp_chars, num_characters)))\n",
        "model.add(SimpleRNN(500, activation='tanh'))\n",
        "model.add(Dense(num_characters, activation='softmax'))\n",
        "model.summary()"
      ],
      "metadata": {
        "colab": {
          "base_uri": "https://localhost:8080/"
        },
        "id": "gwyYcqGiLXPE",
        "outputId": "025cc19f-1c1d-4f23-f16e-3f9f6130382c"
      },
      "execution_count": 19,
      "outputs": [
        {
          "output_type": "stream",
          "name": "stdout",
          "text": [
            "Model: \"sequential\"\n",
            "_________________________________________________________________\n",
            " Layer (type)                Output Shape              Param #   \n",
            "=================================================================\n",
            " simple_rnn (SimpleRNN)      (None, 500)               267500    \n",
            "                                                                 \n",
            " dense (Dense)               (None, 34)                17034     \n",
            "                                                                 \n",
            "=================================================================\n",
            "Total params: 284534 (1.09 MB)\n",
            "Trainable params: 284534 (1.09 MB)\n",
            "Non-trainable params: 0 (0.00 Byte)\n",
            "_________________________________________________________________\n"
          ]
        }
      ]
    },
    {
      "cell_type": "code",
      "source": [
        "model.compile(loss='categorical_crossentropy', metrics=['accuracy'], optimizer='adam')\n",
        "history = model.fit(X, Y, batch_size=32, epochs=100)"
      ],
      "metadata": {
        "colab": {
          "base_uri": "https://localhost:8080/"
        },
        "id": "Y3-y2cQiMGLK",
        "outputId": "9d4bdc56-5f11-41df-e0cd-235410020954"
      },
      "execution_count": 20,
      "outputs": [
        {
          "output_type": "stream",
          "name": "stdout",
          "text": [
            "Epoch 1/100\n",
            "7/7 [==============================] - 5s 78ms/step - loss: 3.4163 - accuracy: 0.0754\n",
            "Epoch 2/100\n",
            "7/7 [==============================] - 0s 41ms/step - loss: 2.4471 - accuracy: 0.3166\n",
            "Epoch 3/100\n",
            "7/7 [==============================] - 0s 39ms/step - loss: 1.8734 - accuracy: 0.5126\n",
            "Epoch 4/100\n",
            "7/7 [==============================] - 0s 57ms/step - loss: 1.4914 - accuracy: 0.5628\n",
            "Epoch 5/100\n",
            "7/7 [==============================] - 0s 35ms/step - loss: 1.2290 - accuracy: 0.6533\n",
            "Epoch 6/100\n",
            "7/7 [==============================] - 0s 40ms/step - loss: 1.0574 - accuracy: 0.6784\n",
            "Epoch 7/100\n",
            "7/7 [==============================] - 0s 46ms/step - loss: 0.8339 - accuracy: 0.7588\n",
            "Epoch 8/100\n",
            "7/7 [==============================] - 1s 71ms/step - loss: 0.7382 - accuracy: 0.8241\n",
            "Epoch 9/100\n",
            "7/7 [==============================] - 0s 52ms/step - loss: 0.6050 - accuracy: 0.8744\n",
            "Epoch 10/100\n",
            "7/7 [==============================] - 1s 85ms/step - loss: 0.5456 - accuracy: 0.8693\n",
            "Epoch 11/100\n",
            "7/7 [==============================] - 1s 79ms/step - loss: 0.5064 - accuracy: 0.8643\n",
            "Epoch 12/100\n",
            "7/7 [==============================] - 0s 32ms/step - loss: 0.4675 - accuracy: 0.8894\n",
            "Epoch 13/100\n",
            "7/7 [==============================] - 0s 45ms/step - loss: 0.3762 - accuracy: 0.9196\n",
            "Epoch 14/100\n",
            "7/7 [==============================] - 0s 65ms/step - loss: 0.3846 - accuracy: 0.9045\n",
            "Epoch 15/100\n",
            "7/7 [==============================] - 0s 61ms/step - loss: 0.3504 - accuracy: 0.9397\n",
            "Epoch 16/100\n",
            "7/7 [==============================] - 0s 53ms/step - loss: 0.3744 - accuracy: 0.9196\n",
            "Epoch 17/100\n",
            "7/7 [==============================] - 0s 44ms/step - loss: 0.3041 - accuracy: 0.9648\n",
            "Epoch 18/100\n",
            "7/7 [==============================] - 0s 41ms/step - loss: 0.2789 - accuracy: 0.9447\n",
            "Epoch 19/100\n",
            "7/7 [==============================] - 0s 56ms/step - loss: 0.2402 - accuracy: 0.9648\n",
            "Epoch 20/100\n",
            "7/7 [==============================] - 0s 46ms/step - loss: 0.3100 - accuracy: 0.9296\n",
            "Epoch 21/100\n",
            "7/7 [==============================] - 0s 43ms/step - loss: 0.2249 - accuracy: 0.9497\n",
            "Epoch 22/100\n",
            "7/7 [==============================] - 0s 37ms/step - loss: 0.2376 - accuracy: 0.9698\n",
            "Epoch 23/100\n",
            "7/7 [==============================] - 0s 52ms/step - loss: 0.2225 - accuracy: 0.9497\n",
            "Epoch 24/100\n",
            "7/7 [==============================] - 0s 50ms/step - loss: 0.1704 - accuracy: 0.9698\n",
            "Epoch 25/100\n",
            "7/7 [==============================] - 1s 82ms/step - loss: 0.2059 - accuracy: 0.9648\n",
            "Epoch 26/100\n",
            "7/7 [==============================] - 1s 76ms/step - loss: 0.1348 - accuracy: 0.9698\n",
            "Epoch 27/100\n",
            "7/7 [==============================] - 0s 64ms/step - loss: 0.1054 - accuracy: 0.9849\n",
            "Epoch 28/100\n",
            "7/7 [==============================] - 0s 68ms/step - loss: 0.1107 - accuracy: 0.9799\n",
            "Epoch 29/100\n",
            "7/7 [==============================] - 0s 58ms/step - loss: 0.0900 - accuracy: 0.9749\n",
            "Epoch 30/100\n",
            "7/7 [==============================] - 0s 48ms/step - loss: 0.0874 - accuracy: 0.9849\n",
            "Epoch 31/100\n",
            "7/7 [==============================] - 0s 33ms/step - loss: 0.0772 - accuracy: 0.9849\n",
            "Epoch 32/100\n",
            "7/7 [==============================] - 0s 26ms/step - loss: 0.0860 - accuracy: 0.9799\n",
            "Epoch 33/100\n",
            "7/7 [==============================] - 0s 30ms/step - loss: 0.0942 - accuracy: 0.9749\n",
            "Epoch 34/100\n",
            "7/7 [==============================] - 0s 31ms/step - loss: 0.1125 - accuracy: 0.9698\n",
            "Epoch 35/100\n",
            "7/7 [==============================] - 0s 31ms/step - loss: 0.3110 - accuracy: 0.9497\n",
            "Epoch 36/100\n",
            "7/7 [==============================] - 0s 43ms/step - loss: 0.2985 - accuracy: 0.9397\n",
            "Epoch 37/100\n",
            "7/7 [==============================] - 0s 51ms/step - loss: 0.2160 - accuracy: 0.9598\n",
            "Epoch 38/100\n",
            "7/7 [==============================] - 0s 39ms/step - loss: 0.2532 - accuracy: 0.9497\n",
            "Epoch 39/100\n",
            "7/7 [==============================] - 0s 49ms/step - loss: 0.1902 - accuracy: 0.9497\n",
            "Epoch 40/100\n",
            "7/7 [==============================] - 0s 58ms/step - loss: 0.1502 - accuracy: 0.9749\n",
            "Epoch 41/100\n",
            "7/7 [==============================] - 0s 57ms/step - loss: 0.1018 - accuracy: 0.9849\n",
            "Epoch 42/100\n",
            "7/7 [==============================] - 0s 52ms/step - loss: 0.1418 - accuracy: 0.9598\n",
            "Epoch 43/100\n",
            "7/7 [==============================] - 0s 49ms/step - loss: 0.1419 - accuracy: 0.9648\n",
            "Epoch 44/100\n",
            "7/7 [==============================] - 0s 51ms/step - loss: 0.2016 - accuracy: 0.9497\n",
            "Epoch 45/100\n",
            "7/7 [==============================] - 0s 50ms/step - loss: 0.1747 - accuracy: 0.9397\n",
            "Epoch 46/100\n",
            "7/7 [==============================] - 0s 55ms/step - loss: 0.1597 - accuracy: 0.9648\n",
            "Epoch 47/100\n",
            "7/7 [==============================] - 0s 55ms/step - loss: 0.1801 - accuracy: 0.9548\n",
            "Epoch 48/100\n",
            "7/7 [==============================] - 0s 56ms/step - loss: 0.2209 - accuracy: 0.9648\n",
            "Epoch 49/100\n",
            "7/7 [==============================] - 0s 36ms/step - loss: 0.1756 - accuracy: 0.9648\n",
            "Epoch 50/100\n",
            "7/7 [==============================] - 0s 34ms/step - loss: 0.1599 - accuracy: 0.9799\n",
            "Epoch 51/100\n",
            "7/7 [==============================] - 0s 39ms/step - loss: 0.1126 - accuracy: 0.9749\n",
            "Epoch 52/100\n",
            "7/7 [==============================] - 0s 29ms/step - loss: 0.0950 - accuracy: 0.9849\n",
            "Epoch 53/100\n",
            "7/7 [==============================] - 0s 31ms/step - loss: 0.1290 - accuracy: 0.9749\n",
            "Epoch 54/100\n",
            "7/7 [==============================] - 0s 27ms/step - loss: 0.1148 - accuracy: 0.9849\n",
            "Epoch 55/100\n",
            "7/7 [==============================] - 0s 44ms/step - loss: 0.0878 - accuracy: 0.9799\n",
            "Epoch 56/100\n",
            "7/7 [==============================] - 0s 35ms/step - loss: 0.1138 - accuracy: 0.9849\n",
            "Epoch 57/100\n",
            "7/7 [==============================] - 0s 43ms/step - loss: 0.0993 - accuracy: 0.9849\n",
            "Epoch 58/100\n",
            "7/7 [==============================] - 0s 39ms/step - loss: 0.0718 - accuracy: 0.9849\n",
            "Epoch 59/100\n",
            "7/7 [==============================] - 0s 38ms/step - loss: 0.0494 - accuracy: 0.9899\n",
            "Epoch 60/100\n",
            "7/7 [==============================] - 0s 37ms/step - loss: 0.0490 - accuracy: 0.9899\n",
            "Epoch 61/100\n",
            "7/7 [==============================] - 0s 42ms/step - loss: 0.0753 - accuracy: 0.9849\n",
            "Epoch 62/100\n",
            "7/7 [==============================] - 0s 37ms/step - loss: 0.0652 - accuracy: 0.9899\n",
            "Epoch 63/100\n",
            "7/7 [==============================] - 0s 33ms/step - loss: 0.0412 - accuracy: 0.9899\n",
            "Epoch 64/100\n",
            "7/7 [==============================] - 0s 32ms/step - loss: 0.0299 - accuracy: 0.9950\n",
            "Epoch 65/100\n",
            "7/7 [==============================] - 0s 52ms/step - loss: 0.0301 - accuracy: 0.9899\n",
            "Epoch 66/100\n",
            "7/7 [==============================] - 0s 41ms/step - loss: 0.0262 - accuracy: 0.9899\n",
            "Epoch 67/100\n",
            "7/7 [==============================] - 0s 36ms/step - loss: 0.0328 - accuracy: 0.9899\n",
            "Epoch 68/100\n",
            "7/7 [==============================] - 0s 34ms/step - loss: 0.0245 - accuracy: 0.9950\n",
            "Epoch 69/100\n",
            "7/7 [==============================] - 0s 32ms/step - loss: 0.0236 - accuracy: 0.9950\n",
            "Epoch 70/100\n",
            "7/7 [==============================] - 0s 37ms/step - loss: 0.0250 - accuracy: 0.9899\n",
            "Epoch 71/100\n",
            "7/7 [==============================] - 0s 37ms/step - loss: 0.0251 - accuracy: 0.9899\n",
            "Epoch 72/100\n",
            "7/7 [==============================] - 0s 48ms/step - loss: 0.0259 - accuracy: 0.9899\n",
            "Epoch 73/100\n",
            "7/7 [==============================] - 0s 40ms/step - loss: 0.0224 - accuracy: 0.9950\n",
            "Epoch 74/100\n",
            "7/7 [==============================] - 0s 31ms/step - loss: 0.0249 - accuracy: 0.9899\n",
            "Epoch 75/100\n",
            "7/7 [==============================] - 0s 34ms/step - loss: 0.0227 - accuracy: 0.9899\n",
            "Epoch 76/100\n",
            "7/7 [==============================] - 0s 36ms/step - loss: 0.0269 - accuracy: 0.9849\n",
            "Epoch 77/100\n",
            "7/7 [==============================] - 0s 38ms/step - loss: 0.0278 - accuracy: 0.9849\n",
            "Epoch 78/100\n",
            "7/7 [==============================] - 0s 29ms/step - loss: 0.0213 - accuracy: 0.9950\n",
            "Epoch 79/100\n",
            "7/7 [==============================] - 0s 31ms/step - loss: 0.0254 - accuracy: 0.9849\n",
            "Epoch 80/100\n",
            "7/7 [==============================] - 0s 32ms/step - loss: 0.0209 - accuracy: 0.9899\n",
            "Epoch 81/100\n",
            "7/7 [==============================] - 0s 28ms/step - loss: 0.0379 - accuracy: 0.9899\n",
            "Epoch 82/100\n",
            "7/7 [==============================] - 0s 29ms/step - loss: 0.0378 - accuracy: 0.9899\n",
            "Epoch 83/100\n",
            "7/7 [==============================] - 0s 31ms/step - loss: 0.0293 - accuracy: 0.9950\n",
            "Epoch 84/100\n",
            "7/7 [==============================] - 0s 32ms/step - loss: 0.0215 - accuracy: 0.9899\n",
            "Epoch 85/100\n",
            "7/7 [==============================] - 0s 37ms/step - loss: 0.0211 - accuracy: 0.9950\n",
            "Epoch 86/100\n",
            "7/7 [==============================] - 0s 38ms/step - loss: 0.0202 - accuracy: 0.9950\n",
            "Epoch 87/100\n",
            "7/7 [==============================] - 0s 40ms/step - loss: 0.0209 - accuracy: 0.9899\n",
            "Epoch 88/100\n",
            "7/7 [==============================] - 0s 42ms/step - loss: 0.0183 - accuracy: 0.9950\n",
            "Epoch 89/100\n",
            "7/7 [==============================] - 0s 44ms/step - loss: 0.0194 - accuracy: 0.9950\n",
            "Epoch 90/100\n",
            "7/7 [==============================] - 0s 57ms/step - loss: 0.0165 - accuracy: 0.9950\n",
            "Epoch 91/100\n",
            "7/7 [==============================] - 0s 44ms/step - loss: 0.0177 - accuracy: 0.9950\n",
            "Epoch 92/100\n",
            "7/7 [==============================] - 0s 45ms/step - loss: 0.0186 - accuracy: 0.9899\n",
            "Epoch 93/100\n",
            "7/7 [==============================] - 0s 50ms/step - loss: 0.0218 - accuracy: 0.9950\n",
            "Epoch 94/100\n",
            "7/7 [==============================] - 0s 46ms/step - loss: 0.0452 - accuracy: 0.9899\n",
            "Epoch 95/100\n",
            "7/7 [==============================] - 0s 41ms/step - loss: 0.1179 - accuracy: 0.9849\n",
            "Epoch 96/100\n",
            "7/7 [==============================] - 0s 35ms/step - loss: 0.1502 - accuracy: 0.9598\n",
            "Epoch 97/100\n",
            "7/7 [==============================] - 0s 48ms/step - loss: 0.1367 - accuracy: 0.9749\n",
            "Epoch 98/100\n",
            "7/7 [==============================] - 0s 42ms/step - loss: 0.1505 - accuracy: 0.9698\n",
            "Epoch 99/100\n",
            "7/7 [==============================] - 0s 37ms/step - loss: 0.1111 - accuracy: 0.9698\n",
            "Epoch 100/100\n",
            "7/7 [==============================] - 0s 38ms/step - loss: 0.1455 - accuracy: 0.9598\n"
          ]
        }
      ]
    },
    {
      "cell_type": "code",
      "source": [
        "def buildPhrase(inp_str, str_len = 50):\n",
        "  for i in range(str_len):\n",
        "    x = []\n",
        "    for j in range(i, i+inp_chars):\n",
        "      x.append(tokenizer.texts_to_matrix(inp_str[j])) # преобразуем символы в One-Hot-encoding\n",
        "\n",
        "    x = np.array(x)\n",
        "    inp = x.reshape(1, inp_chars, num_characters)\n",
        "\n",
        "    pred = model.predict( inp ) # предсказываем OHE четвертого символа\n",
        "    d = tokenizer.index_word[pred.argmax(axis=1)[0]] # получаем ответ в символьном представлении\n",
        "\n",
        "    inp_str += d # дописываем строку\n",
        "\n",
        "  return inp_str"
      ],
      "metadata": {
        "id": "s0_LNL2pMiku"
      },
      "execution_count": 21,
      "outputs": []
    },
    {
      "cell_type": "code",
      "source": [
        "res = buildPhrase(\"утренн\")\n",
        "print(res)"
      ],
      "metadata": {
        "colab": {
          "base_uri": "https://localhost:8080/"
        },
        "id": "7-vxdO-dMijp",
        "outputId": "758d1ed0-a63d-4b69-fbeb-bacab17bbf56"
      },
      "execution_count": 22,
      "outputs": [
        {
          "output_type": "stream",
          "name": "stdout",
          "text": [
            "1/1 [==============================] - 0s 451ms/step\n",
            "1/1 [==============================] - 0s 21ms/step\n",
            "1/1 [==============================] - 0s 21ms/step\n",
            "1/1 [==============================] - 0s 20ms/step\n",
            "1/1 [==============================] - 0s 21ms/step\n",
            "1/1 [==============================] - 0s 23ms/step\n",
            "1/1 [==============================] - 0s 19ms/step\n",
            "1/1 [==============================] - 0s 23ms/step\n",
            "1/1 [==============================] - 0s 20ms/step\n",
            "1/1 [==============================] - 0s 24ms/step\n",
            "1/1 [==============================] - 0s 22ms/step\n",
            "1/1 [==============================] - 0s 20ms/step\n",
            "1/1 [==============================] - 0s 28ms/step\n",
            "1/1 [==============================] - 0s 21ms/step\n",
            "1/1 [==============================] - 0s 20ms/step\n",
            "1/1 [==============================] - 0s 21ms/step\n",
            "1/1 [==============================] - 0s 24ms/step\n",
            "1/1 [==============================] - 0s 19ms/step\n",
            "1/1 [==============================] - 0s 24ms/step\n",
            "1/1 [==============================] - 0s 20ms/step\n",
            "1/1 [==============================] - 0s 20ms/step\n",
            "1/1 [==============================] - 0s 20ms/step\n",
            "1/1 [==============================] - 0s 24ms/step\n",
            "1/1 [==============================] - 0s 21ms/step\n",
            "1/1 [==============================] - 0s 21ms/step\n",
            "1/1 [==============================] - 0s 21ms/step\n",
            "1/1 [==============================] - 0s 32ms/step\n",
            "1/1 [==============================] - 0s 23ms/step\n",
            "1/1 [==============================] - 0s 21ms/step\n",
            "1/1 [==============================] - 0s 21ms/step\n",
            "1/1 [==============================] - 0s 22ms/step\n",
            "1/1 [==============================] - 0s 23ms/step\n",
            "1/1 [==============================] - 0s 23ms/step\n",
            "1/1 [==============================] - 0s 21ms/step\n",
            "1/1 [==============================] - 0s 23ms/step\n",
            "1/1 [==============================] - 0s 20ms/step\n",
            "1/1 [==============================] - 0s 20ms/step\n",
            "1/1 [==============================] - 0s 21ms/step\n",
            "1/1 [==============================] - 0s 21ms/step\n",
            "1/1 [==============================] - 0s 20ms/step\n",
            "1/1 [==============================] - 0s 21ms/step\n",
            "1/1 [==============================] - 0s 20ms/step\n",
            "1/1 [==============================] - 0s 20ms/step\n",
            "1/1 [==============================] - 0s 23ms/step\n",
            "1/1 [==============================] - 0s 21ms/step\n",
            "1/1 [==============================] - 0s 21ms/step\n",
            "1/1 [==============================] - 0s 21ms/step\n",
            "1/1 [==============================] - 0s 20ms/step\n",
            "1/1 [==============================] - 0s 20ms/step\n",
            "1/1 [==============================] - 0s 21ms/step\n",
            "утренноитовдостогась отлечных пезулеватовп липер оеротер\n"
          ]
        }
      ]
    },
    {
      "cell_type": "markdown",
      "source": [
        "# Слова\n"
      ],
      "metadata": {
        "id": "5Lp6XvkoOYyH"
      }
    },
    {
      "cell_type": "code",
      "source": [
        "with open('train_data.txt', 'r', encoding='utf-8') as f:\n",
        "    texts2 = f.read()\n",
        "    texts2 = texts2.replace('\\ufeff', '') # убираем первый невидимый символ"
      ],
      "metadata": {
        "id": "_-Wq8QJ2PDM2"
      },
      "execution_count": 179,
      "outputs": []
    },
    {
      "cell_type": "code",
      "source": [
        "maxWordsCount2 = 1000\n",
        "tokenizer2 = Tokenizer(num_words=maxWordsCount2, filters='!–\"—#$%&amp;()*+,-./:;<=>?@[\\\\]^_`{|}~\\t\\n\\r«»',\n",
        "                       lower=True, split=' ', char_level=False)\n",
        "tokenizer2.fit_on_texts([texts2])"
      ],
      "metadata": {
        "id": "revghpcNPQSd"
      },
      "execution_count": 180,
      "outputs": []
    },
    {
      "cell_type": "code",
      "source": [
        "tokenizer2.word_index"
      ],
      "metadata": {
        "colab": {
          "base_uri": "https://localhost:8080/"
        },
        "id": "L7sngfu6u6T2",
        "outputId": "56876246-7592-4f37-8ca6-299e53f4ec97"
      },
      "execution_count": 181,
      "outputs": [
        {
          "output_type": "execute_result",
          "data": {
            "text/plain": [
              "{'вы': 1,\n",
              " 'в': 2,\n",
              " 'понедельник': 3,\n",
              " 'лучший': 4,\n",
              " 'ответ': 5,\n",
              " 'на': 6,\n",
              " 'проблемы': 7,\n",
              " 'которые': 8,\n",
              " 'возникли': 9,\n",
              " 'думайте': 10,\n",
              " 'позитивно': 11,\n",
              " 'и': 12,\n",
              " 'верьте': 13,\n",
              " 'свою': 14,\n",
              " 'способность': 15,\n",
              " 'достигать': 16,\n",
              " 'отличных': 17,\n",
              " 'результатов': 18,\n",
              " 'если': 19,\n",
              " 'смогли': 20,\n",
              " 'подняться': 21,\n",
              " 'с': 22,\n",
              " 'постели': 23,\n",
              " 'значит': 24,\n",
              " 'супер': 25,\n",
              " 'герой': 26}"
            ]
          },
          "metadata": {},
          "execution_count": 181
        }
      ]
    },
    {
      "cell_type": "code",
      "source": [
        "dist = list(tokenizer2.word_counts.items())\n",
        "print(dist[:10])"
      ],
      "metadata": {
        "colab": {
          "base_uri": "https://localhost:8080/"
        },
        "id": "HPga89Z4PVFe",
        "outputId": "c9101758-7e4f-4bdb-f8bf-b4fde6964b32"
      },
      "execution_count": 182,
      "outputs": [
        {
          "output_type": "stream",
          "name": "stdout",
          "text": [
            "[('вы', 3), ('лучший', 1), ('ответ', 1), ('на', 1), ('проблемы', 1), ('которые', 1), ('возникли', 1), ('в', 3), ('понедельник', 2), ('думайте', 1)]\n"
          ]
        }
      ]
    },
    {
      "cell_type": "code",
      "source": [
        "data2 = tokenizer2.texts_to_sequences([texts2])\n",
        "\n",
        "print(data2)"
      ],
      "metadata": {
        "id": "7mpCwwYQP5hV",
        "colab": {
          "base_uri": "https://localhost:8080/"
        },
        "outputId": "35b1a6b2-34c9-44fa-b46b-3f383994cc9f"
      },
      "execution_count": 183,
      "outputs": [
        {
          "output_type": "stream",
          "name": "stdout",
          "text": [
            "[[1, 4, 5, 6, 7, 8, 9, 2, 3, 10, 11, 12, 13, 2, 14, 15, 16, 17, 18, 19, 1, 20, 2, 3, 21, 22, 23, 24, 1, 25, 26]]\n"
          ]
        }
      ]
    },
    {
      "cell_type": "code",
      "source": [
        "# data2"
      ],
      "metadata": {
        "id": "tPDrhzF4P7Lk"
      },
      "execution_count": 184,
      "outputs": []
    },
    {
      "cell_type": "code",
      "source": [
        "len(data2[0])"
      ],
      "metadata": {
        "colab": {
          "base_uri": "https://localhost:8080/"
        },
        "id": "fA6DuYkoQS8N",
        "outputId": "c65ebe37-b9fc-4654-ad84-4ee3521f3113"
      },
      "execution_count": 185,
      "outputs": [
        {
          "output_type": "execute_result",
          "data": {
            "text/plain": [
              "31"
            ]
          },
          "metadata": {},
          "execution_count": 185
        }
      ]
    },
    {
      "cell_type": "code",
      "source": [
        "res2 = keras.utils.to_categorical(data2[0], num_classes=maxWordsCount2)\n",
        "res2"
      ],
      "metadata": {
        "colab": {
          "base_uri": "https://localhost:8080/"
        },
        "id": "ILtfEKKIQH2d",
        "outputId": "5b0b67ae-b7bb-4173-cadb-ff56ea5a5971"
      },
      "execution_count": 186,
      "outputs": [
        {
          "output_type": "execute_result",
          "data": {
            "text/plain": [
              "array([[0., 1., 0., ..., 0., 0., 0.],\n",
              "       [0., 0., 0., ..., 0., 0., 0.],\n",
              "       [0., 0., 0., ..., 0., 0., 0.],\n",
              "       ...,\n",
              "       [0., 1., 0., ..., 0., 0., 0.],\n",
              "       [0., 0., 0., ..., 0., 0., 0.],\n",
              "       [0., 0., 0., ..., 0., 0., 0.]], dtype=float32)"
            ]
          },
          "metadata": {},
          "execution_count": 186
        }
      ]
    },
    {
      "cell_type": "code",
      "source": [
        "inp_words2 = 3\n",
        "n = res2.shape[0]-inp_words2"
      ],
      "metadata": {
        "id": "pVSmTo2qQyer"
      },
      "execution_count": 187,
      "outputs": []
    },
    {
      "cell_type": "code",
      "source": [
        "X2 = np.array([res2[i:i+inp_words2, :] for i in range(n)])\n",
        "Y2 = res2[inp_words2:]"
      ],
      "metadata": {
        "id": "_ljnZUqXQ3Zz"
      },
      "execution_count": 188,
      "outputs": []
    },
    {
      "cell_type": "code",
      "source": [
        "# https://github.com/allseenn/neuronet/blob/f3049edbe81f67d46557b8078fa603a73d667a6f/05.Tasks/hw05neuro.ipynb#L22\n",
        "\n",
        "# model = Sequential()\n",
        "# model.add(Input((inp_words2, maxWordsCount2)))\n",
        "# model.add(SimpleRNN(128, activation='tanh'))\n",
        "# model.add(Dense(maxWordsCount2, activation='softmax'))\n",
        "# model.summary()\n",
        "\n",
        "# model.compile(loss='categorical_crossentropy', metrics=['accuracy'], optimizer='adam')\n",
        "\n",
        "\n",
        "from tensorflow.keras.layers import Dropout\n",
        "\n",
        "model2 = Sequential()\n",
        "model2.add(Input((inp_words2, maxWordsCount2)))\n",
        "model2.add(SimpleRNN(256, activation='tanh', return_sequences=True))\n",
        "model2.add(Dropout(0.2))  # Добавляем dropout для уменьшения переобучения\n",
        "model2.add(SimpleRNN(256, activation='tanh'))\n",
        "model2.add(Dropout(0.2))  # Добавляем dropout для уменьшения переобучения\n",
        "model2.add(Dense(maxWordsCount2, activation='softmax'))\n",
        "model2.summary()\n",
        "model2.compile(loss='categorical_crossentropy', metrics=['accuracy'], optimizer='adam')"
      ],
      "metadata": {
        "colab": {
          "base_uri": "https://localhost:8080/"
        },
        "id": "Yc8dLHkSQ9Nr",
        "outputId": "c199ec9c-e1dc-4f36-c176-008242876836"
      },
      "execution_count": 189,
      "outputs": [
        {
          "output_type": "stream",
          "name": "stdout",
          "text": [
            "Model: \"sequential_9\"\n",
            "_________________________________________________________________\n",
            " Layer (type)                Output Shape              Param #   \n",
            "=================================================================\n",
            " simple_rnn_12 (SimpleRNN)   (None, 3, 256)            321792    \n",
            "                                                                 \n",
            " dropout_10 (Dropout)        (None, 3, 256)            0         \n",
            "                                                                 \n",
            " simple_rnn_13 (SimpleRNN)   (None, 256)               131328    \n",
            "                                                                 \n",
            " dropout_11 (Dropout)        (None, 256)               0         \n",
            "                                                                 \n",
            " dense_7 (Dense)             (None, 1000)              257000    \n",
            "                                                                 \n",
            "=================================================================\n",
            "Total params: 710120 (2.71 MB)\n",
            "Trainable params: 710120 (2.71 MB)\n",
            "Non-trainable params: 0 (0.00 Byte)\n",
            "_________________________________________________________________\n"
          ]
        }
      ]
    },
    {
      "cell_type": "code",
      "source": [
        "history = model2.fit(X2, Y2, batch_size=32, epochs=25)"
      ],
      "metadata": {
        "colab": {
          "base_uri": "https://localhost:8080/"
        },
        "id": "Av36xtecRA8L",
        "outputId": "ab68421e-1a0d-4ee9-e4a5-f00cc8780e03"
      },
      "execution_count": 190,
      "outputs": [
        {
          "output_type": "stream",
          "name": "stdout",
          "text": [
            "Epoch 1/25\n",
            "1/1 [==============================] - 3s 3s/step - loss: 6.9103 - accuracy: 0.0000e+00\n",
            "Epoch 2/25\n",
            "1/1 [==============================] - 0s 27ms/step - loss: 6.8027 - accuracy: 0.0357\n",
            "Epoch 3/25\n",
            "1/1 [==============================] - 0s 26ms/step - loss: 6.6702 - accuracy: 0.4643\n",
            "Epoch 4/25\n",
            "1/1 [==============================] - 0s 31ms/step - loss: 6.5390 - accuracy: 0.8214\n",
            "Epoch 5/25\n",
            "1/1 [==============================] - 0s 27ms/step - loss: 6.4091 - accuracy: 0.9643\n",
            "Epoch 6/25\n",
            "1/1 [==============================] - 0s 26ms/step - loss: 6.2636 - accuracy: 0.9643\n",
            "Epoch 7/25\n",
            "1/1 [==============================] - 0s 33ms/step - loss: 6.0952 - accuracy: 0.9643\n",
            "Epoch 8/25\n",
            "1/1 [==============================] - 0s 26ms/step - loss: 5.9129 - accuracy: 0.9643\n",
            "Epoch 9/25\n",
            "1/1 [==============================] - 0s 27ms/step - loss: 5.7131 - accuracy: 1.0000\n",
            "Epoch 10/25\n",
            "1/1 [==============================] - 0s 25ms/step - loss: 5.4853 - accuracy: 0.9643\n",
            "Epoch 11/25\n",
            "1/1 [==============================] - 0s 25ms/step - loss: 5.2197 - accuracy: 1.0000\n",
            "Epoch 12/25\n",
            "1/1 [==============================] - 0s 31ms/step - loss: 4.8853 - accuracy: 0.9286\n",
            "Epoch 13/25\n",
            "1/1 [==============================] - 0s 25ms/step - loss: 4.5385 - accuracy: 0.9643\n",
            "Epoch 14/25\n",
            "1/1 [==============================] - 0s 39ms/step - loss: 4.1533 - accuracy: 0.9643\n",
            "Epoch 15/25\n",
            "1/1 [==============================] - 0s 24ms/step - loss: 3.6619 - accuracy: 0.8929\n",
            "Epoch 16/25\n",
            "1/1 [==============================] - 0s 24ms/step - loss: 3.2755 - accuracy: 0.7500\n",
            "Epoch 17/25\n",
            "1/1 [==============================] - 0s 25ms/step - loss: 2.8734 - accuracy: 0.6786\n",
            "Epoch 18/25\n",
            "1/1 [==============================] - 0s 25ms/step - loss: 2.5212 - accuracy: 0.6071\n",
            "Epoch 19/25\n",
            "1/1 [==============================] - 0s 32ms/step - loss: 2.3585 - accuracy: 0.3929\n",
            "Epoch 20/25\n",
            "1/1 [==============================] - 0s 26ms/step - loss: 2.1830 - accuracy: 0.5000\n",
            "Epoch 21/25\n",
            "1/1 [==============================] - 0s 25ms/step - loss: 2.0133 - accuracy: 0.5714\n",
            "Epoch 22/25\n",
            "1/1 [==============================] - 0s 31ms/step - loss: 1.8241 - accuracy: 0.4643\n",
            "Epoch 23/25\n",
            "1/1 [==============================] - 0s 24ms/step - loss: 1.6875 - accuracy: 0.7500\n",
            "Epoch 24/25\n",
            "1/1 [==============================] - 0s 25ms/step - loss: 1.4607 - accuracy: 0.8571\n",
            "Epoch 25/25\n",
            "1/1 [==============================] - 0s 25ms/step - loss: 1.2354 - accuracy: 0.8929\n"
          ]
        }
      ]
    },
    {
      "cell_type": "code",
      "source": [
        "# def buildPhrase2(texts, str_len=20):\n",
        "#     res = texts\n",
        "\n",
        "#     tokenizer2 = Tokenizer(num_words=maxWordsCount2, filters='!–\"—#$%&amp;()*+,-./:;<=>?@[\\\\]^_`{|}~\\t\\n\\r«»',lower=True, split=' ', char_level=False)\n",
        "#     tokenizer2.fit_on_texts([texts])\n",
        "#     dataa = tokenizer2.texts_to_sequences([texts])\n",
        "#     # print(f\"{tokenizer2.texts_to_sequences([texts])[0] = }\")\n",
        "\n",
        "#     # Проверяем, что dataa не пустой\n",
        "#     if dataa:\n",
        "#         dataa = dataa[0]  # Выбираем первый элемент, так как texts_to_sequences возвращает список\n",
        "\n",
        "#         # Проверяем, что dataa не пустой\n",
        "#         if dataa:\n",
        "#             # x = []\n",
        "#             # for j in range(i, i+inp_chars):\n",
        "#             #   x.append(tokenizer2.texts_to_matrix(inp_str[j])) # преобразуем символы в One-Hot-encoding\n",
        "\n",
        "#             for i in range(str_len):\n",
        "#                 x = keras.utils.to_categorical(dataa[i: i+inp_words2], num_classes=maxWordsCount2)\n",
        "\n",
        "#                 # Проверяем, что x не пустой\n",
        "#                 if x.size != 0:\n",
        "#                     inp = x.reshape(1, inp_words2, maxWordsCount2)  # преобразуем в One-Hot-encod\n",
        "#                     pred = model2.predict(inp)  # предсказываем OHE четвертого символа с использованием model2\n",
        "#                     indx = pred.argmax(axis=1)[0]\n",
        "#                     data2.append(indx)\n",
        "#                     res += \" \" + tokenizer2.index_word[indx]  # дописываем строку\n",
        "#                 else:\n",
        "#                     break  # Прерываем цикл, если x пустой\n",
        "#         else:\n",
        "#             print(\"Ошибка: пустые данные после токенизации\")\n",
        "#     else:\n",
        "#         print(\"Ошибка: пустые данные после токенизации\")\n",
        "\n",
        "#     return res"
      ],
      "metadata": {
        "id": "WiPb0RnqRJiT"
      },
      "execution_count": 210,
      "outputs": []
    },
    {
      "cell_type": "code",
      "source": [
        "# for i in range(1):\n",
        "#     x = keras.utils.to_categorical(data[i: i+inp_words2], num_classes=maxWordsCount2)\n",
        "#\n",
        "# x.shape"
      ],
      "metadata": {
        "id": "yrBbGq92UeSP"
      },
      "execution_count": 202,
      "outputs": []
    },
    {
      "cell_type": "code",
      "source": [
        "# res = buildPhrase2([\"позитивно и верьте\"])\n",
        "# print(res)\n",
        "\n",
        "# # https://proproprogs.ru/neural_network/vvedenie-v-rekurrentnye-neyronnye-seti"
      ],
      "metadata": {
        "id": "v2L7ReIFRUuz",
        "colab": {
          "base_uri": "https://localhost:8080/",
          "height": 315
        },
        "outputId": "f30000b4-0445-4b85-bfa3-0ad15dbfcfbf"
      },
      "execution_count": 211,
      "outputs": [
        {
          "output_type": "error",
          "ename": "ValueError",
          "evalue": "cannot reshape array of size 1000 into shape (1,3,1000)",
          "traceback": [
            "\u001b[0;31m---------------------------------------------------------------------------\u001b[0m",
            "\u001b[0;31mValueError\u001b[0m                                Traceback (most recent call last)",
            "\u001b[0;32m<ipython-input-211-ce98baeb31d6>\u001b[0m in \u001b[0;36m<cell line: 1>\u001b[0;34m()\u001b[0m\n\u001b[0;32m----> 1\u001b[0;31m \u001b[0mres\u001b[0m \u001b[0;34m=\u001b[0m \u001b[0mbuildPhrase2\u001b[0m\u001b[0;34m(\u001b[0m\u001b[0;34m[\u001b[0m\u001b[0;34m\"позитивно и верьте\"\u001b[0m\u001b[0;34m]\u001b[0m\u001b[0;34m)\u001b[0m\u001b[0;34m\u001b[0m\u001b[0;34m\u001b[0m\u001b[0m\n\u001b[0m\u001b[1;32m      2\u001b[0m \u001b[0mprint\u001b[0m\u001b[0;34m(\u001b[0m\u001b[0mres\u001b[0m\u001b[0;34m)\u001b[0m\u001b[0;34m\u001b[0m\u001b[0;34m\u001b[0m\u001b[0m\n\u001b[1;32m      3\u001b[0m \u001b[0;34m\u001b[0m\u001b[0m\n\u001b[1;32m      4\u001b[0m \u001b[0;31m# https://proproprogs.ru/neural_network/vvedenie-v-rekurrentnye-neyronnye-seti\u001b[0m\u001b[0;34m\u001b[0m\u001b[0;34m\u001b[0m\u001b[0m\n",
            "\u001b[0;32m<ipython-input-210-4b8ddb5fd570>\u001b[0m in \u001b[0;36mbuildPhrase2\u001b[0;34m(texts, str_len)\u001b[0m\n\u001b[1;32m     22\u001b[0m                 \u001b[0;31m# Проверяем, что x не пустой\u001b[0m\u001b[0;34m\u001b[0m\u001b[0;34m\u001b[0m\u001b[0m\n\u001b[1;32m     23\u001b[0m                 \u001b[0;32mif\u001b[0m \u001b[0mx\u001b[0m\u001b[0;34m.\u001b[0m\u001b[0msize\u001b[0m \u001b[0;34m!=\u001b[0m \u001b[0;36m0\u001b[0m\u001b[0;34m:\u001b[0m\u001b[0;34m\u001b[0m\u001b[0;34m\u001b[0m\u001b[0m\n\u001b[0;32m---> 24\u001b[0;31m                     \u001b[0minp\u001b[0m \u001b[0;34m=\u001b[0m \u001b[0mx\u001b[0m\u001b[0;34m.\u001b[0m\u001b[0mreshape\u001b[0m\u001b[0;34m(\u001b[0m\u001b[0;36m1\u001b[0m\u001b[0;34m,\u001b[0m \u001b[0minp_words2\u001b[0m\u001b[0;34m,\u001b[0m \u001b[0mmaxWordsCount2\u001b[0m\u001b[0;34m)\u001b[0m  \u001b[0;31m# преобразуем в One-Hot-encod\u001b[0m\u001b[0;34m\u001b[0m\u001b[0;34m\u001b[0m\u001b[0m\n\u001b[0m\u001b[1;32m     25\u001b[0m                     \u001b[0mpred\u001b[0m \u001b[0;34m=\u001b[0m \u001b[0mmodel2\u001b[0m\u001b[0;34m.\u001b[0m\u001b[0mpredict\u001b[0m\u001b[0;34m(\u001b[0m\u001b[0minp\u001b[0m\u001b[0;34m)\u001b[0m  \u001b[0;31m# предсказываем OHE четвертого символа с использованием model2\u001b[0m\u001b[0;34m\u001b[0m\u001b[0;34m\u001b[0m\u001b[0m\n\u001b[1;32m     26\u001b[0m                     \u001b[0mindx\u001b[0m \u001b[0;34m=\u001b[0m \u001b[0mpred\u001b[0m\u001b[0;34m.\u001b[0m\u001b[0margmax\u001b[0m\u001b[0;34m(\u001b[0m\u001b[0maxis\u001b[0m\u001b[0;34m=\u001b[0m\u001b[0;36m1\u001b[0m\u001b[0;34m)\u001b[0m\u001b[0;34m[\u001b[0m\u001b[0;36m0\u001b[0m\u001b[0;34m]\u001b[0m\u001b[0;34m\u001b[0m\u001b[0;34m\u001b[0m\u001b[0m\n",
            "\u001b[0;31mValueError\u001b[0m: cannot reshape array of size 1000 into shape (1,3,1000)"
          ]
        }
      ]
    },
    {
      "cell_type": "markdown",
      "source": [
        "# https://github.com/allseenn/neuronet/blob/f3049edbe81f67d46557b8078fa603a73d667a6f/05.Tasks/hw05neuro.ipynb#L22\n",
        "\n",
        "---\n",
        "\n",
        "---"
      ],
      "metadata": {
        "id": "Ug_tl70J3t4_"
      }
    },
    {
      "cell_type": "code",
      "source": [
        "with open('train_data.txt', 'r', encoding='utf-8') as f:\n",
        "    text2 = f.read()\n",
        "    text2 = text2.replace('\\ufeff', '') # убираем первый невидимый символ"
      ],
      "metadata": {
        "id": "hnGbyL7m35j-"
      },
      "execution_count": 216,
      "outputs": []
    },
    {
      "cell_type": "code",
      "source": [
        "maxWordsCount2 = 10000\n",
        "tokenizer2 = Tokenizer(num_words=maxWordsCount2, filters='!–\"—#$%&()*+,-./:;<=>?@[\\]^_`{|}~\\t\\n\\r«»',\n",
        "                       lower=True, split=' ', char_level=False)\n",
        "tokenizer2.fit_on_texts([text2])"
      ],
      "metadata": {
        "id": "Wt8fZ_wv4VtX"
      },
      "execution_count": 228,
      "outputs": []
    },
    {
      "cell_type": "code",
      "source": [
        "tokenizer2.word_index"
      ],
      "metadata": {
        "colab": {
          "base_uri": "https://localhost:8080/"
        },
        "id": "aruZEEg34PWG",
        "outputId": "3ac64409-d604-4eb5-8c8a-45cb538a3a46"
      },
      "execution_count": 229,
      "outputs": [
        {
          "output_type": "execute_result",
          "data": {
            "text/plain": [
              "{'вы': 1,\n",
              " 'в': 2,\n",
              " 'понедельник': 3,\n",
              " 'лучший': 4,\n",
              " 'ответ': 5,\n",
              " 'на': 6,\n",
              " 'проблемы': 7,\n",
              " 'которые': 8,\n",
              " 'возникли': 9,\n",
              " 'думайте': 10,\n",
              " 'позитивно': 11,\n",
              " 'и': 12,\n",
              " 'верьте': 13,\n",
              " 'свою': 14,\n",
              " 'способность': 15,\n",
              " 'достигать': 16,\n",
              " 'отличных': 17,\n",
              " 'результатов': 18,\n",
              " 'если': 19,\n",
              " 'смогли': 20,\n",
              " 'подняться': 21,\n",
              " 'с': 22,\n",
              " 'постели': 23,\n",
              " 'значит': 24,\n",
              " 'супер': 25,\n",
              " 'герой': 26}"
            ]
          },
          "metadata": {},
          "execution_count": 229
        }
      ]
    },
    {
      "cell_type": "code",
      "source": [
        "data2 = tokenizer2.texts_to_sequences([text2])"
      ],
      "metadata": {
        "id": "9eKeWlo44jQf"
      },
      "execution_count": 230,
      "outputs": []
    },
    {
      "cell_type": "code",
      "source": [
        "res2 = keras.utils.to_categorical(data2[0], num_classes=maxWordsCount2)\n",
        "res2"
      ],
      "metadata": {
        "colab": {
          "base_uri": "https://localhost:8080/"
        },
        "id": "udv-zKpi4loA",
        "outputId": "27bb8fb3-c12e-4232-f5d8-69f0ebfc84d4"
      },
      "execution_count": 231,
      "outputs": [
        {
          "output_type": "execute_result",
          "data": {
            "text/plain": [
              "array([[0., 1., 0., ..., 0., 0., 0.],\n",
              "       [0., 0., 0., ..., 0., 0., 0.],\n",
              "       [0., 0., 0., ..., 0., 0., 0.],\n",
              "       ...,\n",
              "       [0., 1., 0., ..., 0., 0., 0.],\n",
              "       [0., 0., 0., ..., 0., 0., 0.],\n",
              "       [0., 0., 0., ..., 0., 0., 0.]], dtype=float32)"
            ]
          },
          "metadata": {},
          "execution_count": 231
        }
      ]
    },
    {
      "cell_type": "code",
      "source": [
        "inp_words2 = 3\n",
        "n2 = res2.shape[0]-inp_words2"
      ],
      "metadata": {
        "id": "lznVx8fi4oNv"
      },
      "execution_count": 232,
      "outputs": []
    },
    {
      "cell_type": "code",
      "source": [
        "X2 = np.array([res2[i:i+inp_words2, :] for i in range(n2)])\n",
        "Y2 = res2[inp_words2:]"
      ],
      "metadata": {
        "id": "oclyrsRQ4qov"
      },
      "execution_count": 233,
      "outputs": []
    },
    {
      "cell_type": "code",
      "source": [
        "from tensorflow.keras.layers import Dropout\n",
        "\n",
        "model2 = Sequential()\n",
        "model2.add(Input((inp_words2, maxWordsCount2)))\n",
        "model2.add(SimpleRNN(256, activation='tanh', return_sequences=True))\n",
        "model2.add(Dropout(0.2))  # Добавляем dropout для уменьшения переобучения\n",
        "model2.add(SimpleRNN(256, activation='tanh'))\n",
        "model2.add(Dropout(0.2))  # Добавляем dropout для уменьшения переобучения\n",
        "model2.add(Dense(maxWordsCount2, activation='softmax'))\n",
        "model2.summary()\n",
        "model2.compile(loss='categorical_crossentropy', metrics=['accuracy'], optimizer='adam')"
      ],
      "metadata": {
        "colab": {
          "base_uri": "https://localhost:8080/"
        },
        "id": "u_QVmMk44tTX",
        "outputId": "9187251b-fa92-418e-93b7-d9ddcc6b9e6c"
      },
      "execution_count": 234,
      "outputs": [
        {
          "output_type": "stream",
          "name": "stdout",
          "text": [
            "Model: \"sequential_11\"\n",
            "_________________________________________________________________\n",
            " Layer (type)                Output Shape              Param #   \n",
            "=================================================================\n",
            " simple_rnn_16 (SimpleRNN)   (None, 3, 256)            2625792   \n",
            "                                                                 \n",
            " dropout_14 (Dropout)        (None, 3, 256)            0         \n",
            "                                                                 \n",
            " simple_rnn_17 (SimpleRNN)   (None, 256)               131328    \n",
            "                                                                 \n",
            " dropout_15 (Dropout)        (None, 256)               0         \n",
            "                                                                 \n",
            " dense_9 (Dense)             (None, 10000)             2570000   \n",
            "                                                                 \n",
            "=================================================================\n",
            "Total params: 5327120 (20.32 MB)\n",
            "Trainable params: 5327120 (20.32 MB)\n",
            "Non-trainable params: 0 (0.00 Byte)\n",
            "_________________________________________________________________\n"
          ]
        }
      ]
    },
    {
      "cell_type": "code",
      "source": [
        "model2.fit(X2, Y2, batch_size=32, epochs=25)"
      ],
      "metadata": {
        "colab": {
          "base_uri": "https://localhost:8080/"
        },
        "id": "iT4fUlDR4w3v",
        "outputId": "f6bb1ae3-3f12-4309-ed3f-ca16fa0bd40a"
      },
      "execution_count": 235,
      "outputs": [
        {
          "output_type": "stream",
          "name": "stdout",
          "text": [
            "Epoch 1/25\n",
            "1/1 [==============================] - 2s 2s/step - loss: 9.2078 - accuracy: 0.0000e+00\n",
            "Epoch 2/25\n",
            "1/1 [==============================] - 0s 105ms/step - loss: 9.1864 - accuracy: 0.0357\n",
            "Epoch 3/25\n",
            "1/1 [==============================] - 0s 102ms/step - loss: 9.1580 - accuracy: 0.7857\n",
            "Epoch 4/25\n",
            "1/1 [==============================] - 0s 109ms/step - loss: 9.1264 - accuracy: 0.9643\n",
            "Epoch 5/25\n",
            "1/1 [==============================] - 0s 128ms/step - loss: 9.0888 - accuracy: 0.9643\n",
            "Epoch 6/25\n",
            "1/1 [==============================] - 0s 111ms/step - loss: 9.0421 - accuracy: 0.9286\n",
            "Epoch 7/25\n",
            "1/1 [==============================] - 0s 122ms/step - loss: 8.9808 - accuracy: 0.9286\n",
            "Epoch 8/25\n",
            "1/1 [==============================] - 0s 107ms/step - loss: 8.8900 - accuracy: 0.8929\n",
            "Epoch 9/25\n",
            "1/1 [==============================] - 0s 104ms/step - loss: 8.7756 - accuracy: 0.7857\n",
            "Epoch 10/25\n",
            "1/1 [==============================] - 0s 113ms/step - loss: 8.6038 - accuracy: 0.6786\n",
            "Epoch 11/25\n",
            "1/1 [==============================] - 0s 107ms/step - loss: 8.3728 - accuracy: 0.3571\n",
            "Epoch 12/25\n",
            "1/1 [==============================] - 0s 117ms/step - loss: 8.0517 - accuracy: 0.2500\n",
            "Epoch 13/25\n",
            "1/1 [==============================] - 0s 150ms/step - loss: 7.6280 - accuracy: 0.1429\n",
            "Epoch 14/25\n",
            "1/1 [==============================] - 0s 115ms/step - loss: 7.1024 - accuracy: 0.1429\n",
            "Epoch 15/25\n",
            "1/1 [==============================] - 0s 122ms/step - loss: 6.5320 - accuracy: 0.1071\n",
            "Epoch 16/25\n",
            "1/1 [==============================] - 0s 112ms/step - loss: 5.8531 - accuracy: 0.1071\n",
            "Epoch 17/25\n",
            "1/1 [==============================] - 0s 113ms/step - loss: 5.1889 - accuracy: 0.1071\n",
            "Epoch 18/25\n",
            "1/1 [==============================] - 0s 96ms/step - loss: 4.6975 - accuracy: 0.1071\n",
            "Epoch 19/25\n",
            "1/1 [==============================] - 0s 110ms/step - loss: 4.2583 - accuracy: 0.1071\n",
            "Epoch 20/25\n",
            "1/1 [==============================] - 0s 121ms/step - loss: 3.8992 - accuracy: 0.1071\n",
            "Epoch 21/25\n",
            "1/1 [==============================] - 0s 104ms/step - loss: 3.6420 - accuracy: 0.1071\n",
            "Epoch 22/25\n",
            "1/1 [==============================] - 0s 117ms/step - loss: 3.5241 - accuracy: 0.1071\n",
            "Epoch 23/25\n",
            "1/1 [==============================] - 0s 110ms/step - loss: 3.3632 - accuracy: 0.1071\n",
            "Epoch 24/25\n",
            "1/1 [==============================] - 0s 106ms/step - loss: 3.3000 - accuracy: 0.1071\n",
            "Epoch 25/25\n",
            "1/1 [==============================] - 0s 105ms/step - loss: 3.2561 - accuracy: 0.1071\n"
          ]
        },
        {
          "output_type": "execute_result",
          "data": {
            "text/plain": [
              "<keras.src.callbacks.History at 0x7ee258ba3100>"
            ]
          },
          "metadata": {},
          "execution_count": 235
        }
      ]
    },
    {
      "cell_type": "code",
      "source": [
        "from keras.utils import to_categorical\n",
        "\n",
        "def buildPhrase2(phrase, str_len=10):\n",
        "    res = phrase\n",
        "    data = tokenizer2.texts_to_sequences([phrase])[0]\n",
        "    used_words = set(data)  # Множество уже использованных слов\n",
        "    prev_word = data[-1]  # Предыдущее слово\n",
        "    for i in range(str_len):\n",
        "        # Получаем вероятности для предсказания следующего слова\n",
        "        x = to_categorical(data[i: i + inp_words2], num_classes=maxWordsCount2)\n",
        "        inp = x.reshape(1, inp_words2, maxWordsCount2)\n",
        "        pred = model2.predict(inp)[0]\n",
        "\n",
        "        # Убираем вероятности для уже использованных слов\n",
        "        pred_filtered = [p if idx not in used_words else 0 for idx, p in enumerate(pred)]\n",
        "        # Убираем вероятности для предыдущего слова\n",
        "        pred_filtered[prev_word] = 0\n",
        "\n",
        "        # Выбираем индекс следующего слова с учетом фильтрации\n",
        "        indx = np.argmax(pred_filtered)\n",
        "        data.append(indx)\n",
        "\n",
        "        res += \" \" + tokenizer2.index_word[indx]\n",
        "        used_words.add(indx)  # Добавляем новое слово в множество использованных слов\n",
        "        prev_word = indx  # Обновляем предыдущее слово\n",
        "\n",
        "    return res"
      ],
      "metadata": {
        "id": "cSN7uZM33gCn"
      },
      "execution_count": 258,
      "outputs": []
    },
    {
      "cell_type": "code",
      "source": [
        "resEnd = buildPhrase2(\"верьте в себя\")"
      ],
      "metadata": {
        "colab": {
          "base_uri": "https://localhost:8080/",
          "height": 263
        },
        "id": "LX8Jfxa23jbW",
        "outputId": "d84881f9-01f0-4df9-fbc5-9aab8b6f212c"
      },
      "execution_count": 259,
      "outputs": [
        {
          "output_type": "error",
          "ename": "ValueError",
          "evalue": "cannot reshape array of size 20000 into shape (1,3,10000)",
          "traceback": [
            "\u001b[0;31m---------------------------------------------------------------------------\u001b[0m",
            "\u001b[0;31mValueError\u001b[0m                                Traceback (most recent call last)",
            "\u001b[0;32m<ipython-input-259-24b7baba1cd4>\u001b[0m in \u001b[0;36m<cell line: 1>\u001b[0;34m()\u001b[0m\n\u001b[0;32m----> 1\u001b[0;31m \u001b[0mresEnd\u001b[0m \u001b[0;34m=\u001b[0m \u001b[0mbuildPhrase2\u001b[0m\u001b[0;34m(\u001b[0m\u001b[0;34m\"верьте в себя\"\u001b[0m\u001b[0;34m)\u001b[0m\u001b[0;34m\u001b[0m\u001b[0;34m\u001b[0m\u001b[0m\n\u001b[0m",
            "\u001b[0;32m<ipython-input-258-bc77df41ff02>\u001b[0m in \u001b[0;36mbuildPhrase2\u001b[0;34m(phrase, str_len)\u001b[0m\n\u001b[1;32m      9\u001b[0m         \u001b[0;31m# Получаем вероятности для предсказания следующего слова\u001b[0m\u001b[0;34m\u001b[0m\u001b[0;34m\u001b[0m\u001b[0m\n\u001b[1;32m     10\u001b[0m         \u001b[0mx\u001b[0m \u001b[0;34m=\u001b[0m \u001b[0mto_categorical\u001b[0m\u001b[0;34m(\u001b[0m\u001b[0mdata\u001b[0m\u001b[0;34m[\u001b[0m\u001b[0mi\u001b[0m\u001b[0;34m:\u001b[0m \u001b[0mi\u001b[0m \u001b[0;34m+\u001b[0m \u001b[0minp_words2\u001b[0m\u001b[0;34m]\u001b[0m\u001b[0;34m,\u001b[0m \u001b[0mnum_classes\u001b[0m\u001b[0;34m=\u001b[0m\u001b[0mmaxWordsCount2\u001b[0m\u001b[0;34m)\u001b[0m\u001b[0;34m\u001b[0m\u001b[0;34m\u001b[0m\u001b[0m\n\u001b[0;32m---> 11\u001b[0;31m         \u001b[0minp\u001b[0m \u001b[0;34m=\u001b[0m \u001b[0mx\u001b[0m\u001b[0;34m.\u001b[0m\u001b[0mreshape\u001b[0m\u001b[0;34m(\u001b[0m\u001b[0;36m1\u001b[0m\u001b[0;34m,\u001b[0m \u001b[0minp_words2\u001b[0m\u001b[0;34m,\u001b[0m \u001b[0mmaxWordsCount2\u001b[0m\u001b[0;34m)\u001b[0m\u001b[0;34m\u001b[0m\u001b[0;34m\u001b[0m\u001b[0m\n\u001b[0m\u001b[1;32m     12\u001b[0m         \u001b[0mpred\u001b[0m \u001b[0;34m=\u001b[0m \u001b[0mmodel2\u001b[0m\u001b[0;34m.\u001b[0m\u001b[0mpredict\u001b[0m\u001b[0;34m(\u001b[0m\u001b[0minp\u001b[0m\u001b[0;34m)\u001b[0m\u001b[0;34m[\u001b[0m\u001b[0;36m0\u001b[0m\u001b[0;34m]\u001b[0m\u001b[0;34m\u001b[0m\u001b[0;34m\u001b[0m\u001b[0m\n\u001b[1;32m     13\u001b[0m \u001b[0;34m\u001b[0m\u001b[0m\n",
            "\u001b[0;31mValueError\u001b[0m: cannot reshape array of size 20000 into shape (1,3,10000)"
          ]
        }
      ]
    },
    {
      "cell_type": "code",
      "source": [
        "resEnd"
      ],
      "metadata": {
        "colab": {
          "base_uri": "https://localhost:8080/",
          "height": 35
        },
        "id": "QZmVNJ0j30Cn",
        "outputId": "1d837b29-26ea-460b-862f-ee59134913fe"
      },
      "execution_count": 260,
      "outputs": [
        {
          "output_type": "execute_result",
          "data": {
            "text/plain": [
              "'верьте в себя'"
            ],
            "application/vnd.google.colaboratory.intrinsic+json": {
              "type": "string"
            }
          },
          "metadata": {},
          "execution_count": 260
        }
      ]
    }
  ]
}